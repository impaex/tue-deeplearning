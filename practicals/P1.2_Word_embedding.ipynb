{
  "cells": [
    {
      "cell_type": "markdown",
      "metadata": {
        "colab_type": "text",
        "id": "view-in-github"
      },
      "source": [
        "<a href=\"https://colab.research.google.com/github/impaex/tue-deeplearning/blob/main/practicals/P1.2_Word_embedding.ipynb\" target=\"_parent\"><img src=\"https://colab.research.google.com/assets/colab-badge.svg\" alt=\"Open In Colab\"/></a>"
      ]
    },
    {
      "cell_type": "code",
      "execution_count": 1,
      "metadata": {
        "id": "FtK9wbEVEIk3"
      },
      "outputs": [],
      "source": [
        "%matplotlib inline"
      ]
    },
    {
      "cell_type": "markdown",
      "metadata": {
        "id": "YdYSzaPtEIk7"
      },
      "source": [
        "# Practical Overview\n",
        "\n",
        " In this Practical you will learn :\n",
        "- Basic concepts of word embeddings.\n",
        "- How to extract word embeddings by N-Gram in a toy example.\n",
        "- How to extract word embeddings by CBoW in a toy example.\n",
        "- How to extract word embeddings by CBoW in `Alice in Wonderland`.\n",
        "- How to perform the analogy task.\n",
        "- Reflecting on the conceptual differences between the CBoW and N-Gram model.\n",
        "\n",
        "We recommend running the practicals of this course in Google Colab. Make sure to go to additional connection options (the small arrow at the top right) -> change runtime type -> a GPU runtime to make use of GPU acceleration."
      ]
    },
    {
      "cell_type": "markdown",
      "metadata": {
        "id": "xJ4nnAY4jR4R"
      },
      "source": [
        "\n",
        "# Word Embeddings: Encoding Lexical Semantics\n",
        "\n",
        "\n",
        "Word embeddings are dense vectors of real numbers, one per word in your\n",
        "vocabulary. In NLP, it is almost always the case that your features are\n",
        "words! But how should you represent a word in a computer? You could\n",
        "store its ascii character representation, but that only tells you what\n",
        "the word *is*, it doesn't say much about what it *means* (you might be\n",
        "able to derive its part of speech from its affixes, or properties from\n",
        "its capitalization, but not much). Even more, in what sense could you\n",
        "combine these representations? We often want dense outputs from our\n",
        "neural networks, where the inputs are $|V|$ dimensional, where\n",
        "$V$ is our vocabulary, but often the outputs are only a few\n",
        "dimensional (if we are only predicting a handful of labels, for\n",
        "instance). How do we get from a massive dimensional space to a smaller\n",
        "dimensional space?\n",
        "\n",
        "How about instead of ascii representations, we use a one-hot encoding?\n",
        "That is, we represent the word $w$ by\n",
        "$$\n",
        "\\begin{align}\n",
        "\\overbrace{\\left[ 0, 0, \\dots, 1, \\dots, 0, 0 \\right]}^\\text{|V| elements}\n",
        "\\end{align}\n",
        "$$\n",
        "\n",
        "where the 1 is in a location unique to $w$. Any other word will\n",
        "have a 1 in some other location, and a 0 everywhere else.\n",
        "\n",
        "There is an enormous drawback to this representation, besides just how\n",
        "huge it is. It basically treats all words as independent entities with\n",
        "no relation to each other. What we really want is some notion of\n",
        "*similarity* between words. Why? Let's see an example.\n",
        "\n",
        "Suppose we are building a language model. Suppose we have seen the\n",
        "sentences\n",
        "\n",
        "* The mathematician ran to the store.\n",
        "* The physicist ran to the store.\n",
        "* The mathematician solved the open problem.\n",
        "\n",
        "in our training data. Now suppose we get a new sentence never before\n",
        "seen in our training data:\n",
        "\n",
        "* The physicist solved the open problem.\n",
        "\n",
        "Our language model might do OK on this sentence, but wouldn't it be much\n",
        "better if we could use the following two facts:\n",
        "\n",
        "- We have seen  mathematician and physicist in the same role in a sentence. Somehow they\n",
        "  have a semantic relation.\n",
        "* We have seen mathematician in the same role  in this new unseen sentence\n",
        "  as we are now seeing physicist.\n",
        "\n",
        "and then infer that physicist is actually a good fit in the new unseen\n",
        "sentence? This is what we mean by a notion of similarity: we mean\n",
        "*semantic similarity*, not simply having similar orthographic\n",
        "representations. It is a technique to combat the sparsity of linguistic\n",
        "data, by connecting the dots between what we have seen and what we\n",
        "haven't. This example of course relies on a fundamental linguistic\n",
        "assumption: that words appearing in similar contexts are related to each\n",
        "other semantically. This is called the [distributional\n",
        "hypothesis](https://en.wikipedia.org/wiki/Distributional_semantics).\n"
      ]
    },
    {
      "cell_type": "markdown",
      "metadata": {
        "id": "6qnMcV9nEIlB"
      },
      "source": [
        "# Getting Dense Word Embeddings\n",
        "\n",
        "\n",
        "How can we solve this problem? That is, how could we actually encode\n",
        "semantic similarity in words? Maybe we think up some semantic\n",
        "attributes. For example, we see that both mathematicians and physicists\n",
        "can run, so maybe we give these words a high score for the \"is able to\n",
        "run\" semantic attribute. Think of some other attributes, and imagine\n",
        "what you might score some common words on those attributes.\n",
        "\n",
        "If each attribute is a dimension, then we might give each word a vector,\n",
        "like this:\n",
        "\n",
        "$$\n",
        "\\begin{align}\n",
        "q_\\text{mathematician} = \\left[ \\overbrace{2.3}^\\text{can run},\n",
        "   \\overbrace{9.4}^\\text{likes coffee}, \\overbrace{-5.5}^\\text{majored in Physics}, \\dots \\right]\n",
        " \\end{align}\n",
        "$$\n",
        "\n",
        "$$\n",
        "\\begin{align}\n",
        "q_\\text{physicist} = \\left[ \\overbrace{2.5}^\\text{can run},\n",
        "   \\overbrace{9.1}^\\text{likes coffee}, \\overbrace{6.4}^\\text{majored in Physics}, \\dots \\right]\n",
        "\\end{align}\n",
        "$$\n",
        "\n",
        "Then we can get a measure of similarity between these words by doing:\n",
        "\n",
        "$$\n",
        "\\begin{align}\n",
        "\\text{Similarity}(\\text{physicist}, \\text{mathematician}) = q_\\text{physicist} \\cdot q_\\text{mathematician}\n",
        "\\end{align}\n",
        "$$\n",
        "\n",
        "\n",
        "Although it is more common to normalize by the lengths:\n",
        "\n",
        "\\begin{align}\\text{Similarity}(\\text{physicist}, \\text{mathematician}) = \\frac{q_\\text{physicist} \\cdot q_\\text{mathematician}}\n",
        "   {\\| q_\\text{physicist} \\| \\| q_\\text{mathematician} \\|} = \\cos (\\phi)\\end{align}\n",
        "\n",
        "Where $\\phi$ is the angle between the two vectors. That way,\n",
        "extremely similar words (words whose embeddings point in the same\n",
        "direction) will have similarity 1. Extremely dissimilar words should\n",
        "have similarity -1.\n",
        "\n",
        "\n",
        "\n",
        "You can think of the sparse one-hot vectors from the beginning of this\n",
        "section as a special case of these new vectors we have defined, where\n",
        "each word basically has similarity 0, and we gave each word some unique\n",
        "semantic attribute. These new vectors are *dense*, which is to say their\n",
        "entries are (typically) non-zero.\n",
        "\n",
        "But these new vectors are a big pain: you could think of thousands of\n",
        "different semantic attributes that might be relevant to determining\n",
        "similarity, and how on earth would you set the values of the different\n",
        "attributes? Central to the idea of deep learning is that the neural\n",
        "network learns representations of the features, rather than requiring\n",
        "the programmer to design them herself. So why not just let the word\n",
        "embeddings be parameters in our model, and then be updated during\n",
        "training? This is exactly what we will do. We will have some *latent\n",
        "semantic attributes* that the network can, in principle, learn. Note\n",
        "that the word embeddings will probably not be interpretable. That is,\n",
        "although with our hand-crafted vectors above we can see that\n",
        "mathematicians and physicists are similar in that they both like coffee,\n",
        "if we allow a neural network to learn the embeddings and see that both\n",
        "mathematicians and physicists have a large value in the second\n",
        "dimension, it is not clear what that means. They are similar in some\n",
        "latent semantic dimension, but this probably has no interpretation to\n",
        "us.\n",
        "\n",
        "\n",
        "In summary, **word embeddings are a representation of the *semantics* of\n",
        "a word, efficiently encoding semantic information that might be relevant\n",
        "to the task at hand**. You can embed other things too: part of speech\n",
        "tags, parse trees, anything! The idea of feature embeddings is central\n",
        "to the field.\n"
      ]
    },
    {
      "cell_type": "markdown",
      "metadata": {
        "id": "tHoC9swzEIlC"
      },
      "source": [
        "# Word Embeddings in Pytorch\n",
        "\n",
        "\n",
        "Before we get to a worked example and an exercise, a few quick notes\n",
        "about how to use embeddings in Pytorch and in deep learning programming\n",
        "in general. Similar to how we defined a unique index for each word when\n",
        "making one-hot vectors, we also need to define an index for each word\n",
        "when using embeddings. These will be keys into a lookup table. That is,\n",
        "embeddings are stored as a $|V| \\times D$ matrix, where $D$\n",
        "is the dimensionality of the embeddings, such that the word assigned\n",
        "index $i$ has its embedding stored in the $i$'th row of the\n",
        "matrix. In all of code, the mapping from words to indices is a\n",
        "dictionary named word\\_to\\_ix.\n",
        "\n",
        "The module that allows you to use embeddings is torch.nn.Embedding,\n",
        "which takes two arguments: the vocabulary size, and the dimensionality\n",
        "of the embeddings.\n",
        "\n",
        "To index into this table, you must use torch.LongTensor (since the\n",
        "indices are integers, not floats).\n",
        "\n"
      ]
    },
    {
      "cell_type": "code",
      "execution_count": 2,
      "metadata": {
        "colab": {
          "base_uri": "https://localhost:8080/"
        },
        "id": "SN-aYyHOjR4S",
        "outputId": "41e7c1de-033e-498e-c8a8-183686ead033"
      },
      "outputs": [
        {
          "data": {
            "text/plain": [
              "<torch._C.Generator at 0x2273c2c7250>"
            ]
          },
          "execution_count": 2,
          "metadata": {},
          "output_type": "execute_result"
        }
      ],
      "source": [
        "# The first part of this practical is based on the tutorial by Robert Guthrie, which can be found here:\n",
        "# https://pytorch.org/tutorials/beginner/nlp/word_embeddings_tutorial.html\n",
        "\n",
        "import torch\n",
        "import torch.nn as nn\n",
        "import torch.nn.functional as F\n",
        "import torch.optim as optim\n",
        "import numpy as np\n",
        "torch.manual_seed(1)"
      ]
    },
    {
      "cell_type": "code",
      "execution_count": 3,
      "metadata": {
        "colab": {
          "base_uri": "https://localhost:8080/"
        },
        "id": "Ki4s4m9IjR4T",
        "outputId": "744f0a72-c00e-4584-a959-11c9479a3067"
      },
      "outputs": [
        {
          "name": "stdout",
          "output_type": "stream",
          "text": [
            "tensor([[ 0.6614,  0.2669,  0.0617,  0.6213, -0.4519]],\n",
            "       grad_fn=<EmbeddingBackward0>)\n"
          ]
        }
      ],
      "source": [
        "word_to_ix = {\"hello\": 0, \"world\": 1}\n",
        "embeds = nn.Embedding(2, 5)  # 2 words in vocab, 5 dimensional embeddings\n",
        "lookup_tensor = torch.tensor([word_to_ix[\"hello\"]], dtype=torch.long)\n",
        "hello_embed = embeds(lookup_tensor)\n",
        "print(hello_embed)"
      ]
    },
    {
      "cell_type": "markdown",
      "metadata": {
        "id": "uzIyUMPKjR4U"
      },
      "source": [
        "# Getting started:  N-Gram Language Modeling in a Toy example\n",
        "\n",
        "\n",
        "Recall that in an n-gram language model, given a sequence of words\n",
        "$w$, we want to compute\n",
        "\n",
        "\\begin{align}P(w_i | w_{i-1}, w_{i-2}, \\dots, w_{i-n+1} )\\end{align}\n",
        "\n",
        "Where $w_i$ is the ith word of the sequence.\n",
        "\n",
        "In this example, we will compute the loss function on some training\n",
        "examples and update the parameters with backpropagation.\n",
        "\n",
        "\n"
      ]
    },
    {
      "cell_type": "markdown",
      "metadata": {
        "id": "lsPi4oSsEIlE"
      },
      "source": [
        "##  Data Preprocessing\n",
        "\n",
        "Before we can use the data in our model, we should build a list of tuples.  Each tuple is `([ word_i-2, word_i-1 ], target word)`, we also build dictionaries to map from words to indices, i.e. word_to_ix, and map from indices to words, i.e. ix_to_word,"
      ]
    },
    {
      "cell_type": "code",
      "execution_count": 4,
      "metadata": {
        "colab": {
          "base_uri": "https://localhost:8080/"
        },
        "id": "l_29jRCmEIlF",
        "outputId": "bac43705-9dfa-412c-882c-e9f96703535c"
      },
      "outputs": [
        {
          "name": "stdout",
          "output_type": "stream",
          "text": [
            "[(['When', 'forty'], 'winters'), (['forty', 'winters'], 'shall'), (['winters', 'shall'], 'besiege')]\n"
          ]
        }
      ],
      "source": [
        "CONTEXT_SIZE = 2   # a 2-gram language model\n",
        "\n",
        "# We will use Shakespeare Sonnet 2\n",
        "test_sentence = \"\"\"When forty winters shall besiege thy brow,\n",
        "And dig deep trenches in thy beauty's field,\n",
        "Thy youth's proud livery so gazed on now,\n",
        "Will be a totter'd weed of small worth held:\n",
        "Then being asked, where all thy beauty lies,\n",
        "Where all the treasure of thy lusty days;\n",
        "To say, within thine own deep sunken eyes,\n",
        "Were an all-eating shame, and thriftless praise.\n",
        "How much more praise deserv'd thy beauty's use,\n",
        "If thou couldst answer 'This fair child of mine\n",
        "Shall sum my count, and make my old excuse,'\n",
        "Proving his beauty by succession thine!\n",
        "This were to be new made when thou art old,\n",
        "And see thy blood warm when thou feel'st it cold.\"\"\".split()\n",
        "# we should tokenize the input, but we will ignore that for now\n",
        "# build a list of tuples.  Each tuple is ([ word_i-2, word_i-1 ], target word)\n",
        "trigrams = [([test_sentence[i], test_sentence[i + 1]], test_sentence[i + 2])\n",
        "            for i in range(len(test_sentence) - 2)]\n",
        "# print the first 3, just so you can see what they look like\n",
        "print(trigrams[:3])\n",
        "\n",
        "\n",
        "vocab = set(test_sentence)\n",
        "word_to_ix = {word: i for i, word in enumerate(vocab)}\n",
        "ix_to_word = {ix:word for ix, word in enumerate(vocab)}\n"
      ]
    },
    {
      "cell_type": "markdown",
      "metadata": {
        "id": "isQEZUFYEIlF"
      },
      "source": [
        "## Create N-Gram model\n",
        "We create N-Gram language model, and set the word embedding size to be 100 (or other by your preference)"
      ]
    },
    {
      "cell_type": "code",
      "execution_count": 5,
      "metadata": {
        "colab": {
          "base_uri": "https://localhost:8080/"
        },
        "id": "cAWWomBFjR4V",
        "outputId": "e330e0a4-c184-4ffb-fd29-ccb95aa58dbe",
        "scrolled": true
      },
      "outputs": [
        {
          "name": "stdout",
          "output_type": "stream",
          "text": [
            "Epoch: 0 \tLoss: 4.6329306712192775\n",
            "Epoch: 1 \tLoss: 4.581380312421681\n",
            "Epoch: 2 \tLoss: 4.530340331845579\n",
            "Epoch: 3 \tLoss: 4.479778840478542\n",
            "Epoch: 4 \tLoss: 4.4297881506185615\n",
            "Epoch: 5 \tLoss: 4.380271430564138\n",
            "Epoch: 6 \tLoss: 4.331127033824414\n",
            "Epoch: 7 \tLoss: 4.282069617668085\n",
            "Epoch: 8 \tLoss: 4.233388875438049\n",
            "Epoch: 9 \tLoss: 4.184738676104925\n",
            "Epoch: 10 \tLoss: 4.136161139581056\n",
            "Epoch: 11 \tLoss: 4.087582672591758\n",
            "Epoch: 12 \tLoss: 4.039053777677823\n",
            "Epoch: 13 \tLoss: 3.9905206988343096\n",
            "Epoch: 14 \tLoss: 3.9418887121487507\n",
            "Epoch: 15 \tLoss: 3.893076569633146\n",
            "Epoch: 16 \tLoss: 3.844003023299496\n",
            "Epoch: 17 \tLoss: 3.7946131925667284\n",
            "Epoch: 18 \tLoss: 3.745048546158107\n",
            "Epoch: 19 \tLoss: 3.6950697244796076\n",
            "Epoch: 20 \tLoss: 3.6447879550731286\n",
            "Epoch: 21 \tLoss: 3.5941069991187713\n",
            "Epoch: 22 \tLoss: 3.5429204206551073\n",
            "Epoch: 23 \tLoss: 3.491290997614903\n",
            "Epoch: 24 \tLoss: 3.439264450453024\n",
            "Epoch: 25 \tLoss: 3.386612661116946\n",
            "Epoch: 26 \tLoss: 3.3336380118817353\n",
            "Epoch: 27 \tLoss: 3.2801410423970854\n",
            "Epoch: 28 \tLoss: 3.2263695349735495\n",
            "Epoch: 29 \tLoss: 3.17220924385881\n",
            "Epoch: 30 \tLoss: 3.1175015753349373\n",
            "Epoch: 31 \tLoss: 3.0624487959178146\n",
            "Epoch: 32 \tLoss: 3.007123333162966\n",
            "Epoch: 33 \tLoss: 2.951348202418437\n",
            "Epoch: 34 \tLoss: 2.8952699493517917\n",
            "Epoch: 35 \tLoss: 2.838841396622953\n",
            "Epoch: 36 \tLoss: 2.782100820435887\n",
            "Epoch: 37 \tLoss: 2.7251409339693797\n",
            "Epoch: 38 \tLoss: 2.6679832597749424\n",
            "Epoch: 39 \tLoss: 2.6105057771227003\n",
            "Epoch: 40 \tLoss: 2.5529645602260014\n",
            "Epoch: 41 \tLoss: 2.4953470298674256\n",
            "Epoch: 42 \tLoss: 2.4375536484000957\n",
            "Epoch: 43 \tLoss: 2.37974854037825\n",
            "Epoch: 44 \tLoss: 2.3218671758617977\n",
            "Epoch: 45 \tLoss: 2.264144349678428\n",
            "Epoch: 46 \tLoss: 2.206531163865486\n",
            "Epoch: 47 \tLoss: 2.148964952578587\n",
            "Epoch: 48 \tLoss: 2.091546553953559\n",
            "Epoch: 49 \tLoss: 2.0344163820279384\n",
            "Epoch: 50 \tLoss: 1.9774827213413948\n",
            "Epoch: 51 \tLoss: 1.9209009861260389\n",
            "Epoch: 52 \tLoss: 1.864678083663493\n",
            "Epoch: 53 \tLoss: 1.808909204549494\n",
            "Epoch: 54 \tLoss: 1.7537594424412313\n",
            "Epoch: 55 \tLoss: 1.699120350511728\n",
            "Epoch: 56 \tLoss: 1.6451547569141978\n",
            "Epoch: 57 \tLoss: 1.5919342536841874\n",
            "Epoch: 58 \tLoss: 1.5393297478424763\n",
            "Epoch: 59 \tLoss: 1.4877063091349814\n",
            "Epoch: 60 \tLoss: 1.4368073911265988\n",
            "Epoch: 61 \tLoss: 1.3869608121108166\n",
            "Epoch: 62 \tLoss: 1.33800106027485\n",
            "Epoch: 63 \tLoss: 1.2901105887990083\n",
            "Epoch: 64 \tLoss: 1.243301105973995\n",
            "Epoch: 65 \tLoss: 1.1975765420799762\n",
            "Epoch: 66 \tLoss: 1.1529984281653851\n",
            "Epoch: 67 \tLoss: 1.109687097832165\n",
            "Epoch: 68 \tLoss: 1.0675347167833718\n",
            "Epoch: 69 \tLoss: 1.0266033473663625\n",
            "Epoch: 70 \tLoss: 0.9869168476588959\n",
            "Epoch: 71 \tLoss: 0.9486023957091095\n",
            "Epoch: 72 \tLoss: 0.9114584286524131\n",
            "Epoch: 73 \tLoss: 0.875634613619969\n",
            "Epoch: 74 \tLoss: 0.8411793177370477\n",
            "Epoch: 75 \tLoss: 0.8079516379311021\n",
            "Epoch: 76 \tLoss: 0.775949291489293\n",
            "Epoch: 77 \tLoss: 0.7453268552775931\n",
            "Epoch: 78 \tLoss: 0.7158751100697348\n",
            "Epoch: 79 \tLoss: 0.6876772549168199\n",
            "Epoch: 80 \tLoss: 0.6606901762759791\n",
            "Epoch: 81 \tLoss: 0.6348561690708178\n",
            "Epoch: 82 \tLoss: 0.6101847245827713\n",
            "Epoch: 83 \tLoss: 0.586627188608446\n",
            "Epoch: 84 \tLoss: 0.5641418589625211\n",
            "Epoch: 85 \tLoss: 0.5426744546048936\n",
            "Epoch: 86 \tLoss: 0.5222643260077565\n",
            "Epoch: 87 \tLoss: 0.5028000412327526\n",
            "Epoch: 88 \tLoss: 0.48431917372266803\n",
            "Epoch: 89 \tLoss: 0.4667086032573628\n",
            "Epoch: 90 \tLoss: 0.4499542239097367\n",
            "Epoch: 91 \tLoss: 0.43409287467994523\n",
            "Epoch: 92 \tLoss: 0.4189767136972035\n",
            "Epoch: 93 \tLoss: 0.40463719975236245\n",
            "Epoch: 94 \tLoss: 0.3909925829981808\n",
            "Epoch: 95 \tLoss: 0.3780665323138237\n",
            "Epoch: 96 \tLoss: 0.36575118574289095\n",
            "Epoch: 97 \tLoss: 0.35408711294948525\n",
            "Epoch: 98 \tLoss: 0.34299294723082435\n",
            "Epoch: 99 \tLoss: 0.332427612514095\n"
          ]
        }
      ],
      "source": [
        "EMBEDDING_DIM = 100\n",
        "\n",
        "class NGramLanguageModeler(nn.Module):\n",
        "\n",
        "    def __init__(self, vocab_size, embedding_dim, context_size):\n",
        "        super().__init__()\n",
        "        self.embeddings = nn.Embedding(vocab_size, embedding_dim)\n",
        "        self.linear1 = nn.Linear(context_size * embedding_dim, 128)\n",
        "        self.linear2 = nn.Linear(128, vocab_size)\n",
        "\n",
        "    def forward(self, inputs):\n",
        "        embeds = self.embeddings(inputs).view((1, -1))\n",
        "        out = F.relu(self.linear1(embeds))\n",
        "        out = self.linear2(out)\n",
        "        log_probs = F.log_softmax(out, dim=1)\n",
        "        return log_probs\n",
        "\n",
        "\n",
        "\n",
        "loss_function = nn.NLLLoss()\n",
        "model = NGramLanguageModeler(len(vocab), EMBEDDING_DIM, CONTEXT_SIZE)\n",
        "optimizer = optim.SGD(model.parameters(), lr=0.001)\n",
        "\n",
        "for epoch in range(100):\n",
        "    total_loss = 0\n",
        "    for context, target in trigrams:\n",
        "\n",
        "        # Step 1. Prepare the inputs to be passed to the model (i.e, turn the words\n",
        "        # into integer indices and wrap them in tensors)\n",
        "        context_idxs = torch.tensor([word_to_ix[w] for w in context], dtype=torch.long)\n",
        "\n",
        "        # Step 2. Recall that torch *accumulates* gradients. Before passing in a\n",
        "        # new instance, you need to zero out the gradients from the old\n",
        "        # instance\n",
        "        model.zero_grad()\n",
        "\n",
        "        # Step 3. Run the forward pass, getting log probabilities over next\n",
        "        # words\n",
        "        log_probs = model(context_idxs)\n",
        "\n",
        "        # Step 4. Compute your loss function. (Again, Torch wants the target\n",
        "        # word wrapped in a tensor)\n",
        "        loss = loss_function(log_probs, torch.tensor([word_to_ix[target]], dtype=torch.long))\n",
        "\n",
        "        # Step 5. Do the backward pass and update the gradient\n",
        "        loss.backward()\n",
        "        optimizer.step()\n",
        "\n",
        "        # Get the Python number from a 1-element Tensor by calling tensor.item()\n",
        "        total_loss += loss.item()\n",
        "    average_loss= total_loss/len(trigrams)\n",
        "    print('Epoch:', epoch, '\\tLoss:', average_loss)  # The loss decreased every iteration over the training data!"
      ]
    },
    {
      "cell_type": "markdown",
      "metadata": {
        "id": "BSESOckrEIlG"
      },
      "source": [
        "##  Check the results"
      ]
    },
    {
      "cell_type": "markdown",
      "metadata": {
        "id": "3FsoenReEIlG"
      },
      "source": [
        "We can inspect some of the word embedding values in a pandas DataFrame:"
      ]
    },
    {
      "cell_type": "code",
      "execution_count": 6,
      "metadata": {
        "colab": {
          "base_uri": "https://localhost:8080/",
          "height": 255
        },
        "id": "BS8ryvBpEIlG",
        "outputId": "8b3177fd-703b-4c9d-f986-31d3969fe851",
        "scrolled": true
      },
      "outputs": [
        {
          "data": {
            "text/html": [
              "<div>\n",
              "<style scoped>\n",
              "    .dataframe tbody tr th:only-of-type {\n",
              "        vertical-align: middle;\n",
              "    }\n",
              "\n",
              "    .dataframe tbody tr th {\n",
              "        vertical-align: top;\n",
              "    }\n",
              "\n",
              "    .dataframe thead th {\n",
              "        text-align: right;\n",
              "    }\n",
              "</style>\n",
              "<table border=\"1\" class=\"dataframe\">\n",
              "  <thead>\n",
              "    <tr style=\"text-align: right;\">\n",
              "      <th></th>\n",
              "      <th>0</th>\n",
              "      <th>1</th>\n",
              "      <th>2</th>\n",
              "      <th>3</th>\n",
              "      <th>4</th>\n",
              "      <th>5</th>\n",
              "      <th>6</th>\n",
              "      <th>7</th>\n",
              "      <th>8</th>\n",
              "      <th>9</th>\n",
              "      <th>...</th>\n",
              "      <th>90</th>\n",
              "      <th>91</th>\n",
              "      <th>92</th>\n",
              "      <th>93</th>\n",
              "      <th>94</th>\n",
              "      <th>95</th>\n",
              "      <th>96</th>\n",
              "      <th>97</th>\n",
              "      <th>98</th>\n",
              "      <th>99</th>\n",
              "    </tr>\n",
              "  </thead>\n",
              "  <tbody>\n",
              "    <tr>\n",
              "      <th>worth</th>\n",
              "      <td>0.868174</td>\n",
              "      <td>0.245417</td>\n",
              "      <td>-0.662567</td>\n",
              "      <td>0.808887</td>\n",
              "      <td>0.439089</td>\n",
              "      <td>1.174506</td>\n",
              "      <td>1.769607</td>\n",
              "      <td>-0.093385</td>\n",
              "      <td>0.061087</td>\n",
              "      <td>-0.616745</td>\n",
              "      <td>...</td>\n",
              "      <td>-1.478910</td>\n",
              "      <td>-1.135694</td>\n",
              "      <td>-0.098962</td>\n",
              "      <td>0.342870</td>\n",
              "      <td>-1.071737</td>\n",
              "      <td>-0.873028</td>\n",
              "      <td>0.205191</td>\n",
              "      <td>0.304751</td>\n",
              "      <td>0.535133</td>\n",
              "      <td>-0.430968</td>\n",
              "    </tr>\n",
              "    <tr>\n",
              "      <th>sunken</th>\n",
              "      <td>0.154102</td>\n",
              "      <td>1.257786</td>\n",
              "      <td>1.328320</td>\n",
              "      <td>-0.497228</td>\n",
              "      <td>-1.982823</td>\n",
              "      <td>1.803114</td>\n",
              "      <td>0.105761</td>\n",
              "      <td>0.339576</td>\n",
              "      <td>-0.645971</td>\n",
              "      <td>-0.289940</td>\n",
              "      <td>...</td>\n",
              "      <td>-1.106985</td>\n",
              "      <td>-0.700769</td>\n",
              "      <td>0.234641</td>\n",
              "      <td>1.918305</td>\n",
              "      <td>1.836833</td>\n",
              "      <td>1.324771</td>\n",
              "      <td>-0.068664</td>\n",
              "      <td>0.346718</td>\n",
              "      <td>-0.656070</td>\n",
              "      <td>1.559006</td>\n",
              "    </tr>\n",
              "    <tr>\n",
              "      <th>feel'st</th>\n",
              "      <td>0.219643</td>\n",
              "      <td>-0.576566</td>\n",
              "      <td>1.458734</td>\n",
              "      <td>1.771749</td>\n",
              "      <td>-2.022836</td>\n",
              "      <td>0.426969</td>\n",
              "      <td>0.574601</td>\n",
              "      <td>-1.798921</td>\n",
              "      <td>1.249656</td>\n",
              "      <td>1.280191</td>\n",
              "      <td>...</td>\n",
              "      <td>0.244794</td>\n",
              "      <td>-0.386999</td>\n",
              "      <td>-0.199754</td>\n",
              "      <td>-0.842882</td>\n",
              "      <td>-1.555527</td>\n",
              "      <td>-0.058042</td>\n",
              "      <td>1.197983</td>\n",
              "      <td>-2.288897</td>\n",
              "      <td>-1.017703</td>\n",
              "      <td>-0.887280</td>\n",
              "    </tr>\n",
              "    <tr>\n",
              "      <th>Where</th>\n",
              "      <td>0.145149</td>\n",
              "      <td>0.206289</td>\n",
              "      <td>1.054756</td>\n",
              "      <td>0.129498</td>\n",
              "      <td>1.405726</td>\n",
              "      <td>0.485999</td>\n",
              "      <td>-0.703582</td>\n",
              "      <td>-0.826039</td>\n",
              "      <td>0.101281</td>\n",
              "      <td>0.198555</td>\n",
              "      <td>...</td>\n",
              "      <td>0.347614</td>\n",
              "      <td>-0.549009</td>\n",
              "      <td>-0.960704</td>\n",
              "      <td>0.276837</td>\n",
              "      <td>-0.683311</td>\n",
              "      <td>-0.543564</td>\n",
              "      <td>1.154014</td>\n",
              "      <td>-0.403529</td>\n",
              "      <td>0.974524</td>\n",
              "      <td>1.547415</td>\n",
              "    </tr>\n",
              "    <tr>\n",
              "      <th>thy</th>\n",
              "      <td>-0.371803</td>\n",
              "      <td>-2.422663</td>\n",
              "      <td>-1.285217</td>\n",
              "      <td>-0.053975</td>\n",
              "      <td>-1.244132</td>\n",
              "      <td>-1.060166</td>\n",
              "      <td>-0.388267</td>\n",
              "      <td>0.378891</td>\n",
              "      <td>-0.202029</td>\n",
              "      <td>0.707132</td>\n",
              "      <td>...</td>\n",
              "      <td>0.290721</td>\n",
              "      <td>-0.562592</td>\n",
              "      <td>0.717168</td>\n",
              "      <td>-0.545158</td>\n",
              "      <td>-0.810050</td>\n",
              "      <td>0.015920</td>\n",
              "      <td>-0.145113</td>\n",
              "      <td>0.525105</td>\n",
              "      <td>-0.218792</td>\n",
              "      <td>-1.262197</td>\n",
              "    </tr>\n",
              "  </tbody>\n",
              "</table>\n",
              "<p>5 rows × 100 columns</p>\n",
              "</div>"
            ],
            "text/plain": [
              "               0         1         2         3         4         5         6   \\\n",
              "worth    0.868174  0.245417 -0.662567  0.808887  0.439089  1.174506  1.769607   \n",
              "sunken   0.154102  1.257786  1.328320 -0.497228 -1.982823  1.803114  0.105761   \n",
              "feel'st  0.219643 -0.576566  1.458734  1.771749 -2.022836  0.426969  0.574601   \n",
              "Where    0.145149  0.206289  1.054756  0.129498  1.405726  0.485999 -0.703582   \n",
              "thy     -0.371803 -2.422663 -1.285217 -0.053975 -1.244132 -1.060166 -0.388267   \n",
              "\n",
              "               7         8         9   ...        90        91        92  \\\n",
              "worth   -0.093385  0.061087 -0.616745  ... -1.478910 -1.135694 -0.098962   \n",
              "sunken   0.339576 -0.645971 -0.289940  ... -1.106985 -0.700769  0.234641   \n",
              "feel'st -1.798921  1.249656  1.280191  ...  0.244794 -0.386999 -0.199754   \n",
              "Where   -0.826039  0.101281  0.198555  ...  0.347614 -0.549009 -0.960704   \n",
              "thy      0.378891 -0.202029  0.707132  ...  0.290721 -0.562592  0.717168   \n",
              "\n",
              "               93        94        95        96        97        98        99  \n",
              "worth    0.342870 -1.071737 -0.873028  0.205191  0.304751  0.535133 -0.430968  \n",
              "sunken   1.918305  1.836833  1.324771 -0.068664  0.346718 -0.656070  1.559006  \n",
              "feel'st -0.842882 -1.555527 -0.058042  1.197983 -2.288897 -1.017703 -0.887280  \n",
              "Where    0.276837 -0.683311 -0.543564  1.154014 -0.403529  0.974524  1.547415  \n",
              "thy     -0.545158 -0.810050  0.015920 -0.145113  0.525105 -0.218792 -1.262197  \n",
              "\n",
              "[5 rows x 100 columns]"
            ]
          },
          "execution_count": 6,
          "metadata": {},
          "output_type": "execute_result"
        }
      ],
      "source": [
        "import pandas as pd\n",
        "embeddings = model.embeddings(torch.Tensor([list(range(0,len(vocab)))]).long())\n",
        "embeddings = embeddings.view(-1,100)\n",
        "pd.DataFrame(embeddings.tolist(), index=list(ix_to_word.values())[0:]).head()"
      ]
    },
    {
      "cell_type": "markdown",
      "metadata": {
        "id": "qifycrEcEIlH"
      },
      "source": [
        "We can also plot the embeddings with TSNE to visualize the similarity"
      ]
    },
    {
      "cell_type": "code",
      "execution_count": 7,
      "metadata": {
        "id": "tS51PlucEIlH"
      },
      "outputs": [],
      "source": [
        "labels=[]\n",
        "for i in range(len(ix_to_word)):\n",
        "    labels.append(ix_to_word[i])"
      ]
    },
    {
      "cell_type": "code",
      "execution_count": 8,
      "metadata": {
        "colab": {
          "base_uri": "https://localhost:8080/",
          "height": 830
        },
        "id": "STNtbZidEIlH",
        "outputId": "0ecea9fd-53a2-42ed-b73f-2a1a88925839",
        "scrolled": true
      },
      "outputs": [
        {
          "data": {
            "image/png": "[encoded data removed]",
            "text/plain": [
              "<Figure size 1000x1000 with 1 Axes>"
            ]
          },
          "metadata": {},
          "output_type": "display_data"
        }
      ],
      "source": [
        "from matplotlib import pylab\n",
        "from sklearn.manifold import TSNE\n",
        "\n",
        "tsne = TSNE(n_components=2)\n",
        "two_d_embeddings = tsne.fit_transform(embeddings.detach().numpy())\n",
        "\n",
        "def plot(embeddings, labels):\n",
        "      assert embeddings.shape[0] >= len(labels), 'More labels than embeddings'\n",
        "      pylab.figure(figsize=(10,10))  # in inches\n",
        "      for i, label in enumerate(labels):\n",
        "        x, y = embeddings[i,:]\n",
        "        pylab.scatter(x, y)\n",
        "        pylab.annotate(label, xy=(x, y), xytext=(5, 2), textcoords='offset points',\n",
        "                       ha='right', va='bottom')\n",
        "      pylab.show()\n",
        "\n",
        "\n",
        "plot(two_d_embeddings, labels)"
      ]
    },
    {
      "cell_type": "code",
      "execution_count": 9,
      "metadata": {
        "colab": {
          "base_uri": "https://localhost:8080/"
        },
        "id": "xkw-lYFQEIlI",
        "outputId": "c4261e11-b58e-4165-b210-30b3d63fcde9"
      },
      "outputs": [
        {
          "name": "stdout",
          "output_type": "stream",
          "text": [
            "Raw text: When forty winters shall besiege thy brow, And dig deep trenches in thy beauty's field, Thy youth's proud livery so gazed on now, Will be a totter'd weed of small worth held: Then being asked, where all thy beauty lies, Where all the treasure of thy lusty days; To say, within thine own deep sunken eyes, Were an all-eating shame, and thriftless praise. How much more praise deserv'd thy beauty's use, If thou couldst answer 'This fair child of mine Shall sum my count, and make my old excuse,' Proving his beauty by succession thine! This were to be new made when thou art old, And see thy blood warm when thou feel'st it cold.\n",
            "\n",
            "Context: ['When', 'forty']\n",
            "\n",
            "Prediction: winters\n"
          ]
        }
      ],
      "source": [
        "context = ['When','forty']\n",
        "\n",
        "a = model(torch.tensor([word_to_ix[w] for w in context]))\n",
        "\n",
        "#Print result\n",
        "print(f'Raw text: {\" \".join(test_sentence)}\\n')\n",
        "print(f'Context: {context}\\n')\n",
        "print(f'Prediction: {ix_to_word[torch.argmax(a[0]).item()]}')"
      ]
    },
    {
      "cell_type": "markdown",
      "metadata": {
        "id": "TuCM5LSqjR4V"
      },
      "source": [
        "# Practical part  1: Computing Word Embeddings -- Continuous Bag-of-Words in a Toy example\n",
        "\n",
        "\n",
        "The Continuous Bag-of-Words model (CBOW) is frequently used in NLP deep\n",
        "learning. It is a model that tries to predict words given the context of\n",
        "a few words before and a few words after the target word. This is\n",
        "distinct from typical practices in language modeling, since CBOW is not sequential and does\n",
        "not have to be probabilistic. Typcially, CBOW is used to quickly train\n",
        "word embeddings, and these embeddings are used to initialize the\n",
        "embeddings of some more complicated model. Usually, this is referred to\n",
        "as *pretraining embeddings*. It almost always helps performance a couple\n",
        "of percent.\n",
        "\n",
        "The CBOW model is as follows. Given a target word $w_i$ and an\n",
        "$N$ context window on each side, $w_{i-1}, \\dots, w_{i-N}$\n",
        "and $w_{i+1}, \\dots, w_{i+N}$, referring to all context words\n",
        "collectively as $C$, CBOW tries to minimize\n",
        "\n",
        "\\begin{align}-\\log p(w_i | C) = -\\log \\text{Softmax}(A(\\sum_{w \\in C} q_w) + b)\\end{align}\n",
        "\n",
        "where $q_w$ is the embedding for word $w$.\n",
        "\n",
        "Implement this model in Pytorch by filling in the class below. Some\n",
        "tips:\n",
        "\n",
        "* Think about which parameters you need to define.\n",
        "* Make sure you know what shape each operation expects. Use .view() if you need to\n",
        "  reshape.\n",
        "\n"
      ]
    },
    {
      "cell_type": "markdown",
      "metadata": {
        "id": "U8ghDiqCEIlI"
      },
      "source": [
        "##  Data Preprocessing\n",
        "\n",
        "The CBOW model architecture tries to predict the current target word (the center word) based on the source context words (surrounding words). Considering a simple sentence, `the quick brown fox jumps over the lazy dog`, this can be pairs of (context_window, target_word) where if we consider a context size 2 (2 words to the left, 2 to the right),  we have examples like `([the, quick, fox, jumps], brown)` and so on. Thus the model tries to predict the target_word based on the context_window words.\n",
        "\n",
        "\n",
        "Therefore should build a list of tuples.  Each tuple is `([ word_i-2, word_i-1,word_i+1, word_i+2 ], target word)`, we also build dictionaries to map from words to indices, i.e. word_to_ix, and map from indices to words, i.e. ix_to_word,"
      ]
    },
    {
      "cell_type": "code",
      "execution_count": 10,
      "metadata": {
        "colab": {
          "base_uri": "https://localhost:8080/"
        },
        "id": "VmRal_jEEIlJ",
        "outputId": "d4920901-59ba-4252-c0a5-ffd12095d405"
      },
      "outputs": [
        {
          "name": "stdout",
          "output_type": "stream",
          "text": [
            "[(['We', 'are', 'to', 'study'], 'about'), (['are', 'about', 'study', 'the'], 'to'), (['about', 'to', 'the', 'idea'], 'study'), (['to', 'study', 'idea', 'of'], 'the'), (['study', 'the', 'of', 'a'], 'idea')]\n"
          ]
        }
      ],
      "source": [
        "import torch\n",
        "import torch.nn as nn\n",
        "\n",
        "\n",
        "CONTEXT_SIZE = 2  # 2 words to the left, 2 to the right\n",
        "EMBEDDING_DIM = 100\n",
        "\n",
        "raw_text = \"\"\"We are about to study the idea of a computational process.\n",
        "Computational processes are abstract beings that inhabit computers.\n",
        "As they evolve, processes manipulate other abstract things called data.\n",
        "The evolution of a process is directed by a pattern of rules\n",
        "called a program. People create programs to direct processes. In effect,\n",
        "we conjure the spirits of the computer with our spells.\"\"\".split()\n",
        "\n",
        "\n",
        "# By deriving a set from `raw_text`, we deduplicate the array\n",
        "vocab = set(raw_text)\n",
        "vocab_size = len(vocab)\n",
        "\n",
        "word_to_ix = {word:ix for ix, word in enumerate(vocab)}\n",
        "ix_to_word = {ix:word for ix, word in enumerate(vocab)}\n",
        "\n",
        "data = []\n",
        "for i in range(2, len(raw_text) - 2):\n",
        "    context = [raw_text[i - 2], raw_text[i - 1],\n",
        "               raw_text[i + 1], raw_text[i + 2]]\n",
        "    target = raw_text[i]\n",
        "    data.append((context, target))\n",
        "\n",
        "print(data[:5])"
      ]
    },
    {
      "cell_type": "markdown",
      "metadata": {
        "id": "0RnPHbY_EIlJ"
      },
      "source": [
        "\n",
        "## Create CBoW Model\n",
        "Following is an image to illustrate the model architecture. We set the word embedding size to be 100 (or other by your preference)."
      ]
    },
    {
      "cell_type": "markdown",
      "metadata": {
        "id": "ZupJeQSCEIlJ"
      },
      "source": [
        "![avatar](https://miro.medium.com/max/328/1*bkrBASpteKfCaxZDEEeN6g.png)"
      ]
    },
    {
      "cell_type": "code",
      "execution_count": 15,
      "metadata": {
        "colab": {
          "base_uri": "https://localhost:8080/",
          "height": 356
        },
        "id": "c83HvD2hjR4W",
        "outputId": "7cb17ef9-7dfc-4500-d729-fd620745b2c3",
        "scrolled": true
      },
      "outputs": [
        {
          "name": "stdout",
          "output_type": "stream",
          "text": [
            "Epoch: 0 Loss: 3.9644167299928337\n",
            "Epoch: 1 Loss: 3.8796014251380133\n",
            "Epoch: 2 Loss: 3.796754734269504\n",
            "Epoch: 3 Loss: 3.715462454434099\n",
            "Epoch: 4 Loss: 3.635825255821491\n",
            "Epoch: 5 Loss: 3.5574463030387617\n",
            "Epoch: 6 Loss: 3.4799706607029357\n",
            "Epoch: 7 Loss: 3.402968645095825\n",
            "Epoch: 8 Loss: 3.3261472438943795\n",
            "Epoch: 9 Loss: 3.2497561306789002\n",
            "Epoch: 10 Loss: 3.1734171160336198\n",
            "Epoch: 11 Loss: 3.097261975551474\n",
            "Epoch: 12 Loss: 3.0213377146885314\n",
            "Epoch: 13 Loss: 2.945491704447516\n",
            "Epoch: 14 Loss: 2.8695473650406145\n",
            "Epoch: 15 Loss: 2.7936234659162062\n",
            "Epoch: 16 Loss: 2.7173785690603585\n",
            "Epoch: 17 Loss: 2.6407295383256058\n",
            "Epoch: 18 Loss: 2.5638329551137726\n",
            "Epoch: 19 Loss: 2.486755270382454\n",
            "Epoch: 20 Loss: 2.4096287160084167\n",
            "Epoch: 21 Loss: 2.332996325246219\n",
            "Epoch: 22 Loss: 2.25649500304255\n",
            "Epoch: 23 Loss: 2.180350343728888\n",
            "Epoch: 24 Loss: 2.1048412127741454\n",
            "Epoch: 25 Loss: 2.0299148816486885\n",
            "Epoch: 26 Loss: 1.9558696397419633\n",
            "Epoch: 27 Loss: 1.882600844934069\n",
            "Epoch: 28 Loss: 1.8106950670480728\n",
            "Epoch: 29 Loss: 1.7400138814901482\n",
            "Epoch: 30 Loss: 1.670553566566829\n",
            "Epoch: 31 Loss: 1.6026853271599473\n",
            "Epoch: 32 Loss: 1.536196327415006\n",
            "Epoch: 33 Loss: 1.4712194281405415\n",
            "Epoch: 34 Loss: 1.4077847769548153\n",
            "Epoch: 35 Loss: 1.3458448278492894\n",
            "Epoch: 36 Loss: 1.2857101241062427\n",
            "Epoch: 37 Loss: 1.2273473803853165\n",
            "Epoch: 38 Loss: 1.170494185182555\n",
            "Epoch: 39 Loss: 1.1156483367085457\n",
            "Epoch: 40 Loss: 1.0624342869068015\n",
            "Epoch: 41 Loss: 1.0112059023873559\n",
            "Epoch: 42 Loss: 0.9619529332066404\n",
            "Epoch: 43 Loss: 0.9144556311697796\n",
            "Epoch: 44 Loss: 0.8690066029285562\n",
            "Epoch: 45 Loss: 0.8253909986594627\n",
            "Epoch: 46 Loss: 0.7839123827630076\n",
            "Epoch: 47 Loss: 0.7442510264187023\n",
            "Epoch: 48 Loss: 0.7064816237523638\n",
            "Epoch: 49 Loss: 0.6706293847026497\n"
          ]
        }
      ],
      "source": [
        "class CBOW(torch.nn.Module):\n",
        "    def __init__(self, vocab_size, embedding_dim, context_size):\n",
        "      # === ADD CODE HERE ===\n",
        "      super().__init__()\n",
        "      self.embeddings = nn.Embedding(vocab_size, embedding_dim)\n",
        "      self.linear1 = nn.Linear(context_size * 2 * embedding_dim, 128)\n",
        "      self.linear2 = nn.Linear(128, vocab_size)\n",
        "\n",
        "\n",
        "    def forward(self, inputs):\n",
        "         # === ADD CODE HERE ===\n",
        "        embeds = self.embeddings(inputs).view((1,-1))\n",
        "        out = F.relu(self.linear1(embeds))\n",
        "        out = self.linear2(out)\n",
        "        log_probs = F.log_softmax(out, dim=1)\n",
        "        return log_probs\n",
        "\n",
        "# create your model and train.  here are some functions to help you make\n",
        "# the data ready for use by your module\n",
        "\n",
        "def make_context_vector(context, word_to_ix):\n",
        "    idxs = [word_to_ix[w] for w in context]\n",
        "    return torch.tensor(idxs, dtype=torch.long)\n",
        "\n",
        "\n",
        "#TRAINING\n",
        "loss_function = nn.NLLLoss()\n",
        "model = CBOW(vocab_size, EMBEDDING_DIM, CONTEXT_SIZE)\n",
        "optimizer = optim.SGD(model.parameters(), lr=0.001)\n",
        "\n",
        "for epoch in range(50):\n",
        "    # === ADD CODE HERE ===\n",
        "    total_loss = 0\n",
        "    for context, target in data:\n",
        "      context_idxs = make_context_vector(context, word_to_ix)\n",
        "      model.zero_grad()\n",
        "      log_probs = model(context_idxs)\n",
        "      loss = loss_function(log_probs, torch.tensor([word_to_ix[target]], dtype=torch.long))\n",
        "      loss.backward()\n",
        "      optimizer.step()\n",
        "      total_loss += loss.item()\n",
        "    average_loss = total_loss/len(data)\n",
        "    print(f\"Epoch: {epoch} Loss: {average_loss}\")\n",
        "\n"
      ]
    },
    {
      "cell_type": "markdown",
      "metadata": {
        "id": "pO3kG5J5EIlK"
      },
      "source": [
        "##  Check the results\n",
        "\n",
        "Then we check the results by making predictions of target work by context"
      ]
    },
    {
      "cell_type": "code",
      "execution_count": null,
      "metadata": {
        "id": "DdvNmVzyEIlK",
        "scrolled": true
      },
      "outputs": [],
      "source": [
        "context = ['People','create','to', 'direct']\n",
        "context_vector = make_context_vector(context, word_to_ix)\n",
        "a = model(context_vector)\n",
        "\n",
        "#Print result\n",
        "print(f'Raw text: {\" \".join(raw_text)}\\n')\n",
        "print(f'Context: {context}\\n')\n",
        "print(f'Prediction: {ix_to_word[torch.argmax(a[0]).item()]}')"
      ]
    },
    {
      "cell_type": "markdown",
      "metadata": {
        "id": "MyhbthiuEIlK"
      },
      "source": [
        "# Practical part 2: Computing Word Embeddings in  `Alice in Wonderland` using CBoW"
      ]
    },
    {
      "cell_type": "markdown",
      "metadata": {
        "id": "xg5-ASo6EIlK"
      },
      "source": [
        "Now let's try to build word embedding in a ‘Alice in Wonderland’ instead of a toy example. The word-label mapping dictionaries and corpus are available [here](https://drive.google.com/drive/folders/1mYM29PbWQ4rS0bgKndFJjZlkbcwMaEpO?usp=sharing). You can use the cell bellow to download the necessary data in your working directory."
      ]
    },
    {
      "cell_type": "code",
      "execution_count": null,
      "metadata": {
        "id": "-Qncx5DvEIlL"
      },
      "outputs": [],
      "source": [
        "import gdown\n",
        "gdown.download_folder(\"https://drive.google.com/drive/folders/1mYM29PbWQ4rS0bgKndFJjZlkbcwMaEpO\")"
      ]
    },
    {
      "cell_type": "markdown",
      "metadata": {
        "id": "5tB2lhi9EIlL"
      },
      "source": [
        "##  Data Preprocessing"
      ]
    },
    {
      "cell_type": "code",
      "execution_count": null,
      "metadata": {
        "id": "VAOV7R1eEIlL"
      },
      "outputs": [],
      "source": [
        "# modify the path according to your own file location\n",
        "import os\n",
        "data_path=os.path.join(\"/content/Word_embedding_data/\")\n",
        "# if you are not using Colab, change data_path above to where you stored the data locally"
      ]
    },
    {
      "cell_type": "markdown",
      "metadata": {
        "id": "fQgbZmxeEIlL"
      },
      "source": [
        "Now we load the data:"
      ]
    },
    {
      "cell_type": "code",
      "execution_count": null,
      "metadata": {
        "id": "zVumTj4zEIlL"
      },
      "outputs": [],
      "source": [
        "import json\n",
        "with open(os.path.join(data_path,\"alice.json\"),'r') as f:\n",
        "    alice = json.load(f)\n",
        "with open(os.path.join(data_path,\"ix_to_word.json\"),'r') as f:\n",
        "    ix_to_word = json.load(f)\n",
        "with open(os.path.join(data_path,\"word_to_ix.json\"),'r') as f:\n",
        "    word_to_ix = json.load(f)"
      ]
    },
    {
      "cell_type": "markdown",
      "metadata": {
        "id": "V5z4rw21EIlL"
      },
      "source": [
        "Then we create the context and target pairs by borrowing some keras utilities. We set the window_size 2 (2 words to the left, 2 to the right)."
      ]
    },
    {
      "cell_type": "code",
      "execution_count": null,
      "metadata": {
        "id": "BzBRj_wCEIlM"
      },
      "outputs": [],
      "source": [
        "window_size=2\n",
        "vocab_size=len(word_to_ix)\n",
        "\n",
        "from tensorflow.keras.preprocessing import text\n",
        "from tensorflow.keras.preprocessing import sequence\n",
        "from tensorflow.keras.utils import pad_sequences\n",
        "\n",
        "corpus = [[word_to_ix[w] for w in text.text_to_word_sequence(doc)] for doc in alice]\n",
        "\n",
        "def generate_context_word_pairs(corpus, window_size, vocab_size):\n",
        "    X = []\n",
        "    Y = []\n",
        "    context_length = window_size*2\n",
        "    for words in corpus:\n",
        "        sentence_length = len(words)\n",
        "        for index, word in enumerate(words):\n",
        "            start = index - window_size\n",
        "            end = index + window_size + 1\n",
        "            context = [words[i] for i in range(start, end)if 0 <= i < sentence_length and i != index]\n",
        "            x = pad_sequences([context], maxlen=context_length)[0]\n",
        "            X.append(x)\n",
        "            Y.append([word])\n",
        "\n",
        "    X=torch.tensor(X, dtype=torch.long)\n",
        "    Y=torch.tensor(Y, dtype=torch.long)\n",
        "    return X,Y\n",
        "\n",
        "X,Y = generate_context_word_pairs(corpus, window_size=window_size, vocab_size=vocab_size)"
      ]
    },
    {
      "cell_type": "markdown",
      "metadata": {
        "id": "elVnNG8iEIlM"
      },
      "source": [
        "\n",
        "##  Create CBoW Model\n",
        "Now we create CBoW model, we could set the word embedding size to be 100 (or  some other number if you prefer)."
      ]
    },
    {
      "cell_type": "code",
      "execution_count": null,
      "metadata": {
        "id": "s74S42onEIlM"
      },
      "outputs": [],
      "source": [
        "class CBOW(torch.nn.Module):\n",
        "    def __init__(self):\n",
        "        # === ADD CODE HERE ===\n",
        "\n",
        "    def forward(self, inputs):\n",
        "         # === ADD CODE HERE ===\n",
        "\n",
        "\n",
        "EMBEDDING_DIM=100\n",
        "model = CBOW(vocab_size,EMBEDDING_DIM)"
      ]
    },
    {
      "cell_type": "markdown",
      "metadata": {
        "id": "Mald8OtfEIlM"
      },
      "source": [
        "Remember to move your model to GPU, since now we are training with a larger corpus."
      ]
    },
    {
      "cell_type": "code",
      "execution_count": null,
      "metadata": {
        "id": "QqFmVL0kEIlS"
      },
      "outputs": [],
      "source": [
        "# Move model to GPU\n",
        "# === ADD CODE HERE ==="
      ]
    },
    {
      "cell_type": "markdown",
      "metadata": {
        "id": "4nysfttaEIlS"
      },
      "source": [
        "Then we train the model and print the loss. The loss should decrease with every epoch over the training data. You can play with the epochs numbers here."
      ]
    },
    {
      "cell_type": "code",
      "execution_count": null,
      "metadata": {
        "id": "-lliCjfcEIlS"
      },
      "outputs": [],
      "source": [
        "#TRAINING\n",
        "for epoch in range(10):\n",
        "# === ADD CODE HERE ==="
      ]
    },
    {
      "cell_type": "markdown",
      "metadata": {
        "id": "XknH9y58EIlT"
      },
      "source": [
        "# Practical. 3: Analogy Task"
      ]
    },
    {
      "cell_type": "markdown",
      "metadata": {
        "id": "Vxvjq1nwEIlT"
      },
      "source": [
        "\n",
        "\n",
        "\n",
        "**Reading material**\n",
        "* [1] Mikolov, Tomas, et al. \"[Efficient Estimation of Word Representations in Vector Space](https://arxiv.org/abs/1301.3781)\" Advances in neural information processing systems. 2013.\n"
      ]
    },
    {
      "cell_type": "markdown",
      "metadata": {
        "id": "eMaAMCcIEIlT"
      },
      "source": [
        "Implement your own function to perform the analogy task (see [1] for concrete examples). Use the same distance metric as in [1]. Your function should be able to answer whether an analogy like: \"a king is to a queen as a man is to a woman\" ($e_{king} - e_{queen} + e_{woman} \\approx e_{man}$) is true.\n",
        "\n",
        "In a perfect scenario, we would like that this analogy ($e_{king} - e_{queen} + e_{woman}$) results in the embedding of the word \"man\". However, it does not always result in exactly the same word embedding. The result of the formula is called the expected or the predicted word embedding. In this context, \"man\" is called the true or the actual word $t$. We want to find the word $p$ in the vocabulary, where the embedding of $p$ (referred to as $e_p$) is the closest to the predicted embedding (i.e. result of the formula). Then, we can check if $p$ is the same word as the true word $t$.  \n",
        "\n",
        "You have to answer an analogy function using each embedding for  CBOW model. Show the true word (with distance similarity value between predicted embedding and true word embedding, i.e. `sim1`) , the predicted word (with distance similarity value between predicted embedding and the embedding of the word in the vocabulary that is closest to this predicted embedding, i.e. `sim2`).\n",
        "\n",
        "Since `Alice in wonder land` is a relatively small dataset to training the model for the analogy task,  we may find it is difficult to get the correct answer by searching the nearest word embedding. Therefore, we extend the predicted word to the nearest `nr` number of words and check if the true word is within them. Do not expect the `nr` to be very small, it could be tens or hundreds."
      ]
    },
    {
      "cell_type": "markdown",
      "metadata": {
        "id": "pNJSovy4EIlT"
      },
      "source": [
        "<b>HINT</b>: to visualize the results of the analogy tasks , you can print them in a table. An example is given below.\n",
        "\n",
        "\n",
        "| Analogy task | True word (sim1)  | Predicted nearaest word (sim2) | Correct? |True word within the top `nr` nearest word?|\n",
        "|:------:|:------:|:------:|:------:|:------:|\n",
        "|  queen is to king as woman is to ?\t | man (sim1) | predicted_word(sim2) | True / False |   True / False|"
      ]
    },
    {
      "cell_type": "code",
      "execution_count": null,
      "metadata": {
        "id": "gD8ot85SEIlT"
      },
      "outputs": [],
      "source": [
        "analogy=('queen', 'king', 'woman', 'man')"
      ]
    },
    {
      "cell_type": "markdown",
      "metadata": {
        "id": "241l3lcXEIlU"
      },
      "source": [
        "First let us extract the embeddings of all vocabularies for the following task"
      ]
    },
    {
      "cell_type": "code",
      "execution_count": null,
      "metadata": {
        "id": "XxPn-R5wEIlU"
      },
      "outputs": [],
      "source": [
        "dev = torch.device(\n",
        "    \"cuda\") if torch.cuda.is_available() else torch.device(\"cpu\")"
      ]
    },
    {
      "cell_type": "code",
      "execution_count": null,
      "metadata": {
        "id": "Lbd2FjfeEIlU"
      },
      "outputs": [],
      "source": [
        "embeddings = model.embeddings(torch.Tensor([list(range(0,vocab_size))]).long().to(dev))\n",
        "embeddings = embeddings.view(-1,100)\n",
        "embeddings = embeddings.cpu().detach().numpy()"
      ]
    },
    {
      "cell_type": "markdown",
      "metadata": {
        "id": "VQXUFX9oEIlU"
      },
      "source": [
        "Then we define a 'get_nearest_words' function to retrive the nearest `nr` words to a certain word embedding"
      ]
    },
    {
      "cell_type": "code",
      "execution_count": null,
      "metadata": {
        "id": "Ah7xSOq_EIlU"
      },
      "outputs": [],
      "source": [
        "def get_nearest_words():\n",
        "    # === ADD CODE HERE ==="
      ]
    },
    {
      "cell_type": "markdown",
      "metadata": {
        "id": "oQ9svQQSEIlV"
      },
      "source": [
        "Now let's search for the nearest `one` and `nr` words of the predicted word embedding, and print results of the analogy tasks"
      ]
    },
    {
      "cell_type": "code",
      "execution_count": null,
      "metadata": {
        "id": "1M4Wm5LkEIlV"
      },
      "outputs": [],
      "source": [
        "def print_analogy(analogy):\n",
        "    # === ADD CODE HERE ==="
      ]
    },
    {
      "cell_type": "code",
      "execution_count": null,
      "metadata": {
        "id": "qTYzh5OUEIlV"
      },
      "outputs": [],
      "source": [
        "print_analogy()"
      ]
    }
  ],
  "metadata": {
    "accelerator": "GPU",
    "colab": {
      "gpuType": "T4",
      "include_colab_link": true,
      "name": "P1.2_Word_embedding.ipynb",
      "provenance": []
    },
    "kernelspec": {
      "display_name": "base",
      "language": "python",
      "name": "python3"
    },
    "language_info": {
      "codemirror_mode": {
        "name": "ipython",
        "version": 3
      },
      "file_extension": ".py",
      "mimetype": "text/x-python",
      "name": "python",
      "nbconvert_exporter": "python",
      "pygments_lexer": "ipython3",
      "version": "3.12.7"
    }
  },
  "nbformat": 4,
  "nbformat_minor": 0
}
